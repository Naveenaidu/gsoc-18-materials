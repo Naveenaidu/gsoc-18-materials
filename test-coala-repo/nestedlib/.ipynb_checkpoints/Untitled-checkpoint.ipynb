{
 "cells": [
  {
   "cell_type": "code",
   "execution_count": 13,
   "metadata": {},
   "outputs": [
    {
     "data": {
      "text/plain": [
       "<NlSection object(file='orig_file.html', index=1, language='html', start=<NlSectionPosition object(file='orig_file.html', line=1, column=None) at 0x7fe7a55b8828>, end=<NlSectionPosition object(file='orig_file.html', line=3, column=5) at 0x7fe7a55b8550>) at 0x7fe7a55b8400>"
      ]
     },
     "execution_count": 13,
     "metadata": {},
     "output_type": "execute_result"
    }
   ],
   "source": [
    "from coalib.nestedlib.NlSection import NlSection\n",
    "from coalib.nestedlib.NlSectionPosition import NlSectionPosition\n",
    "from coalib.results.SourceRange import SourceRange\n",
    "\n",
    "NlSection.from_values('orig_file.html',1,None, 3, 5,1,'html')"
   ]
  },
  {
   "cell_type": "code",
   "execution_count": 11,
   "metadata": {},
   "outputs": [],
   "source": [
    "linted_start = NlSectionPosition('temp_html',1,None)"
   ]
  },
  {
   "cell_type": "code",
   "execution_count": 19,
   "metadata": {},
   "outputs": [
    {
     "name": "stdout",
     "output_type": "stream",
     "text": [
      "temp_html\n"
     ]
    }
   ],
   "source": [
    "x = NlSection.from_values('orig_html',1,None, 3, 5,1,'html')\n",
    "print(x)\n",
    "\n",
    "\n",
    "\n"
   ]
  },
  {
   "cell_type": "code",
   "execution_count": 5,
   "metadata": {},
   "outputs": [],
   "source": []
  }
 ],
 "metadata": {
  "kernelspec": {
   "display_name": "Python 3",
   "language": "python",
   "name": "python3"
  },
  "language_info": {
   "codemirror_mode": {
    "name": "ipython",
    "version": 3
   },
   "file_extension": ".py",
   "mimetype": "text/x-python",
   "name": "python",
   "nbconvert_exporter": "python",
   "pygments_lexer": "ipython3",
   "version": "3.6.7"
  }
 },
 "nbformat": 4,
 "nbformat_minor": 2
}
