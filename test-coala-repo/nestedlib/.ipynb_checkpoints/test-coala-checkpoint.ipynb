{
 "cells": [
  {
   "cell_type": "code",
   "execution_count": 15,
   "metadata": {},
   "outputs": [
    {
     "ename": "TypeError",
     "evalue": "'>' not supported between instances of 'NoneType' and 'NoneType'",
     "output_type": "error",
     "traceback": [
      "\u001b[0;31m---------------------------------------------------------------------------\u001b[0m",
      "\u001b[0;31mTypeError\u001b[0m                                 Traceback (most recent call last)",
      "\u001b[0;32m<ipython-input-15-9deddc47081a>\u001b[0m in \u001b[0;36m<module>\u001b[0;34m\u001b[0m\n\u001b[1;32m      3\u001b[0m \u001b[0;32mfrom\u001b[0m \u001b[0mcoalib\u001b[0m\u001b[0;34m.\u001b[0m\u001b[0mnestedlib\u001b[0m\u001b[0;34m.\u001b[0m\u001b[0mNlSection\u001b[0m \u001b[0;32mimport\u001b[0m \u001b[0mNlSection\u001b[0m\u001b[0;34m\u001b[0m\u001b[0;34m\u001b[0m\u001b[0m\n\u001b[1;32m      4\u001b[0m \u001b[0;34m\u001b[0m\u001b[0m\n\u001b[0;32m----> 5\u001b[0;31m \u001b[0mNlSection\u001b[0m\u001b[0;34m.\u001b[0m\u001b[0mfrom_values\u001b[0m\u001b[0;34m(\u001b[0m\u001b[0;34m'html'\u001b[0m\u001b[0;34m)\u001b[0m\u001b[0;34m\u001b[0m\u001b[0;34m\u001b[0m\u001b[0m\n\u001b[0m\u001b[1;32m      6\u001b[0m \u001b[0;34m\u001b[0m\u001b[0m\n",
      "\u001b[0;32m~/git/coala-repos/coala/coalib/nestedlib/NlSection.py\u001b[0m in \u001b[0;36mfrom_values\u001b[0;34m(cls, file, start_line, start_column, end_line, end_column, index, language)\u001b[0m\n\u001b[1;32m     61\u001b[0m                     language=None):\n\u001b[1;32m     62\u001b[0m         \u001b[0mstart\u001b[0m \u001b[0;34m=\u001b[0m \u001b[0mNlSectionPosition\u001b[0m\u001b[0;34m(\u001b[0m\u001b[0mfile\u001b[0m\u001b[0;34m,\u001b[0m \u001b[0mstart_line\u001b[0m\u001b[0;34m,\u001b[0m \u001b[0mstart_column\u001b[0m\u001b[0;34m)\u001b[0m\u001b[0;34m\u001b[0m\u001b[0;34m\u001b[0m\u001b[0m\n\u001b[0;32m---> 63\u001b[0;31m         \u001b[0;32mif\u001b[0m \u001b[0mend_line\u001b[0m \u001b[0;32mor\u001b[0m \u001b[0;34m(\u001b[0m\u001b[0mend_column\u001b[0m \u001b[0;34m>\u001b[0m \u001b[0mstart_column\u001b[0m\u001b[0;34m)\u001b[0m\u001b[0;34m:\u001b[0m\u001b[0;34m\u001b[0m\u001b[0;34m\u001b[0m\u001b[0m\n\u001b[0m\u001b[1;32m     64\u001b[0m             end = NlSectionPosition(file, end_line if end_line else start_line,\n\u001b[1;32m     65\u001b[0m                                  end_column)\n",
      "\u001b[0;31mTypeError\u001b[0m: '>' not supported between instances of 'NoneType' and 'NoneType'"
     ]
    }
   ],
   "source": [
    "# Test of NlSection and NlSectionPosition\n",
    "\n",
    "from coalib.nestedlib.NlSection import NlSection\n",
    "\n",
    "NlSection.from_values('html')\n",
    "\n"
   ]
  },
  {
   "cell_type": "code",
   "execution_count": 16,
   "metadata": {},
   "outputs": [
    {
     "data": {
      "text/plain": [
       "<SourceRange object(start=<SourcePosition object(file='/home/theprophet/git/coala-repos/coala/coalib/nestedlib/html', line=None, column=None) at 0x7febc80f2400>, end=<SourcePosition object(file='/home/theprophet/git/coala-repos/coala/coalib/nestedlib/html', line=None, column=None) at 0x7febc80f2e48>) at 0x7febc80f2f28>"
      ]
     },
     "execution_count": 16,
     "metadata": {},
     "output_type": "execute_result"
    }
   ],
   "source": [
    "from coalib.results.SourceRange import SourceRange\n",
    "SourceRange.from_values('html')"
   ]
  },
  {
   "cell_type": "code",
   "execution_count": 23,
   "metadata": {},
   "outputs": [],
   "source": [
    "!jt -t onedork"
   ]
  }
 ],
 "metadata": {
  "kernelspec": {
   "display_name": "Python 3",
   "language": "python",
   "name": "python3"
  },
  "language_info": {
   "codemirror_mode": {
    "name": "ipython",
    "version": 3
   },
   "file_extension": ".py",
   "mimetype": "text/x-python",
   "name": "python",
   "nbconvert_exporter": "python",
   "pygments_lexer": "ipython3",
   "version": "3.6.7"
  }
 },
 "nbformat": 4,
 "nbformat_minor": 2
}
