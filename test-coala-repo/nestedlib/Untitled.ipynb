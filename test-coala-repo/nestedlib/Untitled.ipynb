{
 "cells": [
  {
   "cell_type": "code",
   "execution_count": 1,
   "metadata": {},
   "outputs": [
    {
     "data": {
      "text/plain": [
       "<NlSection object(file='orig_file.html', index=1, language='html', start=<NlSectionPosition object(file='orig_file.html', line=1, column=None) at 0x7f93df7af9b0>, end=<NlSectionPosition object(file='orig_file.html', line=3, column=5) at 0x7f93df7afa20>) at 0x7f93df7af9e8>"
      ]
     },
     "execution_count": 1,
     "metadata": {},
     "output_type": "execute_result"
    }
   ],
   "source": [
    "from coalib.nestedlib.NlSection import NlSection\n",
    "from coalib.nestedlib.NlSectionPosition import NlSectionPosition\n",
    "from coalib.results.SourceRange import SourceRange\n",
    "\n",
    "NlSection.from_values('orig_file.html',1,None, 3, 5,1,'html')"
   ]
  },
  {
   "cell_type": "code",
   "execution_count": 2,
   "metadata": {},
   "outputs": [],
   "source": [
    "linted_start = NlSectionPosition('temp_html',1,None)"
   ]
  },
  {
   "cell_type": "code",
   "execution_count": 4,
   "metadata": {},
   "outputs": [
    {
     "name": "stdout",
     "output_type": "stream",
     "text": [
      "1\n",
      "5\n"
     ]
    }
   ],
   "source": [
    " NlSection.from_values('orig_html',1,None, None, None,1,'html')\n",
    "x.linted_start.line = 5\n",
    "print(x.start.line)\n",
    "print(x.linted_start.line)\n",
    "\n",
    "\n",
    "\n"
   ]
  },
  {
   "cell_type": "code",
   "execution_count": 5,
   "metadata": {},
   "outputs": [
    {
     "data": {
      "text/plain": [
       "<NlSection object(file='orig_html', index=1, language='html', start=<NlSectionPosition object(file='orig_html', line=1, column=None) at 0x7f93dee85ef0>, end=<NlSectionPosition object(file='orig_html', line=1, column=None) at 0x7f93dee858d0>) at 0x7f93dee85e10>"
      ]
     },
     "execution_count": 5,
     "metadata": {},
     "output_type": "execute_result"
    }
   ],
   "source": [
    " NlSection.from_values('orig_html',1,None, None, None,1,'html')"
   ]
  }
 ],
 "metadata": {
  "kernelspec": {
   "display_name": "Python 3",
   "language": "python",
   "name": "python3"
  },
  "language_info": {
   "codemirror_mode": {
    "name": "ipython",
    "version": 3
   },
   "file_extension": ".py",
   "mimetype": "text/x-python",
   "name": "python",
   "nbconvert_exporter": "python",
   "pygments_lexer": "ipython3",
   "version": "3.6.7"
  }
 },
 "nbformat": 4,
 "nbformat_minor": 2
}
