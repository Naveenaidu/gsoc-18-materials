{
 "cells": [
  {
   "cell_type": "code",
   "execution_count": null,
   "metadata": {},
   "outputs": [],
   "source": [
    "# How to get the column number of the match object\n"
   ]
  },
  {
   "cell_type": "code",
   "execution_count": 70,
   "metadata": {},
   "outputs": [
    {
     "name": "stdout",
     "output_type": "stream",
     "text": [
      "16\n",
      "PHP open tag: <?php\n",
      "\n",
      "PHP content:  echo date('l, F jS, Y'); \n",
      "\n",
      "PHP close tag: ?>\n",
      "\n",
      "Line Numbers: \n",
      "\n",
      "61\n",
      "PHP open tag: <?php\n",
      "\n",
      "PHP content:  echo thanos; \n",
      "\n",
      "PHP close tag: ?>\n",
      "\n",
      "Line Numbers: \n",
      "\n",
      "0\n",
      "4\n"
     ]
    }
   ],
   "source": [
    "import re\n",
    "\n",
    "PHP_TAGS = re.compile(\n",
    "    r'(?P<open><\\?php)(?P<content>.*?)(?P<close>\\?>)')\n",
    "\n",
    "line = \"\"\"Hello, today is <?php echo date('l, F jS, Y'); ?>\n",
    "\n",
    "\n",
    "\n",
    "        <?php echo thanos; ?>\"\"\"\n",
    "\n",
    "# Returns an iterator yielding match objectss\n",
    "match_objects = PHP_TAGS.finditer(line)\n",
    "\n",
    "# Loop through the match objects and get the column number of the \n",
    "# matched objects\n",
    "for m in match_objects:\n",
    "    print(m.start())\n",
    "    print('PHP open tag: {}\\n'.format(m.group('open')) )\n",
    "    print('PHP content: {}\\n'.format(m.group('content')) )\n",
    "    print('PHP close tag: {}\\n'.format(m.group('close')) )\n",
    "\n",
    "\n",
    "# Get the line number where the string was matched\n",
    "\n",
    "    print(\"Line Numbers: \\n\")\n",
    "for m in PHP_TAGS.finditer(line):\n",
    "    print(line.count('\\n', 0, m.start()))"
   ]
  },
  {
   "cell_type": "code",
   "execution_count": 72,
   "metadata": {},
   "outputs": [
    {
     "data": {
      "text/plain": [
       "'\\n`string.count()` function in an inbuilt function in python programming \\nlanguage that returns the number of occurrences of a substring in \\nthe given string.\\n\\neg: string.count(substring, start=…, end=…)\\n'"
      ]
     },
     "execution_count": 72,
     "metadata": {},
     "output_type": "execute_result"
    }
   ],
   "source": [
    "\"\"\"\n",
    "`string.count()` function in an inbuilt function in python programming \n",
    "language that returns the number of occurrences of a substring in \n",
    "the given string.\n",
    "\n",
    "eg: string.count(substring, start=…, end=…)\n",
    "\"\"\"\n"
   ]
  },
  {
   "cell_type": "code",
   "execution_count": 1,
   "metadata": {},
   "outputs": [
    {
     "name": "stdout",
     "output_type": "stream",
     "text": [
      "16\n",
      "PHP open tag: <?php\n",
      "\n",
      "PHP content:  hello <?php \n",
      "\n",
      "PHP close tag: ?>\n",
      "\n"
     ]
    }
   ],
   "source": [
    "# Matching regulat expressions test\n",
    "import re\n",
    "\n",
    "PHP_TAGS = re.compile(\n",
    "    r'(?P<open><\\?php)(?P<content>.*?)(?P<close>\\?>)')\n",
    "\n",
    "line = \"\"\"Hello, today is <?php hello <?php ?>\"\"\"\n",
    "\n",
    "match_objects = PHP_TAGS.finditer(line)\n",
    "\n",
    "for m in match_objects:\n",
    "    print(m.start())\n",
    "    print('PHP open tag: {}\\n'.format(m.group('open')) )\n",
    "    print('PHP content: {}\\n'.format(m.group('content')) )\n",
    "    print('PHP close tag: {}\\n'.format(m.group('close')) )"
   ]
  },
  {
   "cell_type": "code",
   "execution_count": 2,
   "metadata": {},
   "outputs": [],
   "source": [
    "# Regular Expression test for Python - Jinja Parser"
   ]
  },
  {
   "cell_type": "code",
   "execution_count": 13,
   "metadata": {},
   "outputs": [
    {
     "name": "stdout",
     "output_type": "stream",
     "text": [
      "<_sre.SRE_Match object; span=(0, 18), match='{% if x is True %}'>\n",
      "0\n",
      "18\n",
      "\n",
      "\n",
      "<_sre.SRE_Match object; span=(26, 32), match='{{  }}'>\n",
      "26\n",
      "32\n",
      "\n",
      "\n",
      "<_sre.SRE_Match object; span=(40, 58), match='{% if x is True %}'>\n",
      "40\n",
      "58\n",
      "\n",
      "\n"
     ]
    }
   ],
   "source": [
    "import re\n",
    "\n",
    "#JINJA_STATEMENT =  re.compile(\n",
    "#    r'(?P<open>{%[+-]?)(?P<content>.*?)(?P<close>[+-]?%})')\n",
    "\n",
    "#JINJA_VAR = re.compile(\n",
    "#    r'(?P<open>{{)(?P<content>.*?)(?P<close>}})')\n",
    "\n",
    "JINJA_RE = re.compile(\n",
    "    '({%[+-]?.*?%}|({{.*?}}))')\n",
    "\n",
    "line = \"{% if x is True %} x = 20 {{  }} y = 30 {% if x is True %}\"          \n",
    "\n",
    "match_objects = JINJA_RE.finditer(line)\n",
    "\n",
    "for m in match_objects:\n",
    "    print(m)\n",
    "    print(m.start())\n",
    "    print(m.end())\n",
    "    print(\"\\n\")"
   ]
  },
  {
   "cell_type": "code",
   "execution_count": 36,
   "metadata": {},
   "outputs": [
    {
     "name": "stdout",
     "output_type": "stream",
     "text": [
      "{%  if x is True  %}\n",
      "0\n",
      "18\n",
      "\n",
      "\n",
      "{{    }}\n",
      "26\n",
      "32\n",
      "\n",
      "\n",
      "{%  if x is True  %}\n",
      "40\n",
      "58\n",
      "\n",
      "\n"
     ]
    }
   ],
   "source": [
    "import regex as re\n",
    "\n",
    "JINJA_STATEMENT_PATTERN = (\n",
    "  r'(?P<open>{%[+-]?)(?P<content>.*?)(?P<close>[+-]?%})')\n",
    "\n",
    "JINJA_VAR_PATTERN = (\n",
    "   r'(?P<open>{{)(?P<content>.*?)(?P<close>}})')\n",
    "\n",
    "JINJA_RE = re.compile(\n",
    "    '|'.join([JINJA_STATEMENT_PATTERN, JINJA_VAR_PATTERN]))\n",
    "\n",
    "line = \"{% if x is True %} x = 20 {{  }} y = 30 {% if x is True %}\"          \n",
    "\n",
    "match_objects = JINJA_RE.finditer(line)\n",
    "\n",
    "for m in match_objects:\n",
    "    print(m.group('open'), m.group('content'), m.group('close'))\n",
    "    print(m.start())\n",
    "    print(m.end())\n",
    "    print(\"\\n\")\n"
   ]
  },
  {
   "cell_type": "code",
   "execution_count": null,
   "metadata": {},
   "outputs": [],
   "source": []
  }
 ],
 "metadata": {
  "kernelspec": {
   "display_name": "Python 3",
   "language": "python",
   "name": "python3"
  },
  "language_info": {
   "codemirror_mode": {
    "name": "ipython",
    "version": 3
   },
   "file_extension": ".py",
   "mimetype": "text/x-python",
   "name": "python",
   "nbconvert_exporter": "python",
   "pygments_lexer": "ipython3",
   "version": "3.6.7"
  }
 },
 "nbformat": 4,
 "nbformat_minor": 2
}
